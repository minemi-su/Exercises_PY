{
 "cells": [
  {
   "cell_type": "code",
   "execution_count": 46,
   "id": "64053b5b",
   "metadata": {},
   "outputs": [],
   "source": [
    "import pyspark"
   ]
  },
  {
   "cell_type": "code",
   "execution_count": 47,
   "id": "27f6329c",
   "metadata": {},
   "outputs": [],
   "source": [
    "from pyspark.sql import functions as Func\n",
    "from pyspark.sql.functions import when\n",
    "from pyspark.sql import SparkSession\n",
    "from pyspark.sql.functions import col"
   ]
  },
  {
   "cell_type": "code",
   "execution_count": 48,
   "id": "3415706d",
   "metadata": {},
   "outputs": [],
   "source": [
    "spark=SparkSession.builder.appName(\"EU_Superstore\").getOrCreate()"
   ]
  },
  {
   "cell_type": "code",
   "execution_count": 49,
   "id": "84df8da8",
   "metadata": {},
   "outputs": [
    {
     "data": {
      "text/html": [
       "\n",
       "            <div>\n",
       "                <p><b>SparkSession - in-memory</b></p>\n",
       "                \n",
       "        <div>\n",
       "            <p><b>SparkContext</b></p>\n",
       "\n",
       "            <p><a href=\"http://minemu:4043\">Spark UI</a></p>\n",
       "\n",
       "            <dl>\n",
       "              <dt>Version</dt>\n",
       "                <dd><code>v3.1.3</code></dd>\n",
       "              <dt>Master</dt>\n",
       "                <dd><code>local[*]</code></dd>\n",
       "              <dt>AppName</dt>\n",
       "                <dd><code>EU_Superstore</code></dd>\n",
       "            </dl>\n",
       "        </div>\n",
       "        \n",
       "            </div>\n",
       "        "
      ],
      "text/plain": [
       "<pyspark.sql.session.SparkSession at 0x162d2e40750>"
      ]
     },
     "execution_count": 49,
     "metadata": {},
     "output_type": "execute_result"
    }
   ],
   "source": [
    "spark"
   ]
  },
  {
   "cell_type": "code",
   "execution_count": 50,
   "id": "1a3b29d1",
   "metadata": {},
   "outputs": [],
   "source": [
    "df=spark.read.option(\"header\",\"true\").csv(\"EU_Superstore.csv\")"
   ]
  },
  {
   "cell_type": "code",
   "execution_count": 51,
   "id": "64476b8e",
   "metadata": {},
   "outputs": [
    {
     "name": "stdout",
     "output_type": "stream",
     "text": [
      "+------+---------------+----------+----------+--------------+-----------+----------------+-----------+-------------+--------------------+--------------+-------+---------------+---------------+------------+--------------------+--------+--------+--------+-------+\n",
      "|Row ID|       Order ID|Order Date| Ship Date|     Ship Mode|Customer ID|   Customer Name|    Segment|         City|               State|       Country| Region|     Product ID|       Category|Sub-Category|        Product Name|   Sales|Quantity|Discount| Profit|\n",
      "+------+---------------+----------+----------+--------------+-----------+----------------+-----------+-------------+--------------------+--------------+-------+---------------+---------------+------------+--------------------+--------+--------+--------+-------+\n",
      "|     1|ES-2017-1311038|07/02/2017|11/02/2017|Standard Class|   AS-10045|  Aaron Smayling|  Corporate|        Leeds|             England|United Kingdom|  North|OFF-ST-10000988|Office Supplies|     Storage|Fellowes Folders,...|    79.2|       3|       0|   39.6|\n",
      "|     2|ES-2017-1311038|07/02/2017|11/02/2017|Standard Class|   AS-10045|  Aaron Smayling|  Corporate|        Leeds|             England|United Kingdom|  North|TEC-AC-10004144|     Technology| Accessories|SanDisk Numeric K...|  388.92|       7|       0|      0|\n",
      "|     3|ES-2017-1311038|07/02/2017|11/02/2017|Standard Class|   AS-10045|  Aaron Smayling|  Corporate|        Leeds|             England|United Kingdom|  North|OFF-LA-10001915|Office Supplies|      Labels|Avery Legal Exhib...|   35.19|       3|       0|  16.11|\n",
      "|     4|ES-2017-1311038|07/02/2017|11/02/2017|Standard Class|   AS-10045|  Aaron Smayling|  Corporate|        Leeds|             England|United Kingdom|  North|OFF-ST-10004550|Office Supplies|     Storage|Fellowes Folders,...|   50.94|       2|       0|   13.2|\n",
      "|     5|ES-2017-1311038|07/02/2017|11/02/2017|Standard Class|   AS-10045|  Aaron Smayling|  Corporate|        Leeds|             England|United Kingdom|  North|TEC-AC-10004068|     Technology| Accessories|Memorex Memory Ca...|  307.44|       3|       0|  73.71|\n",
      "|     6|ES-2017-1311038|07/02/2017|11/02/2017|Standard Class|   AS-10045|  Aaron Smayling|  Corporate|        Leeds|             England|United Kingdom|  North|OFF-ST-10002271|Office Supplies|     Storage|Rogers Shelving, ...|   122.4|       2|       0|  37.92|\n",
      "|     7|ES-2017-1311038|07/02/2017|11/02/2017|Standard Class|   AS-10045|  Aaron Smayling|  Corporate|        Leeds|             England|United Kingdom|  North|TEC-PH-10003963|     Technology|      Phones|Apple Signal Boos...|  413.82|       3|       0|  20.61|\n",
      "|     8|ES-2015-5113958|02/08/2015|07/08/2015|  Second Class|   EB-13840|   Ellis Ballard|  Corporate|West Bromwich|             England|United Kingdom|  North|TEC-CO-10004325|     Technology|     Copiers|Canon Personal Co...|  428.22|       3|       0| 192.69|\n",
      "|     9|ES-2015-5113958|02/08/2015|07/08/2015|  Second Class|   EB-13840|   Ellis Ballard|  Corporate|West Bromwich|             England|United Kingdom|  North|OFF-AP-10004512|Office Supplies|  Appliances|   Hoover Stove, Red| 3979.29|       7|       0|1989.54|\n",
      "|    10|ES-2015-5113958|02/08/2015|07/08/2015|  Second Class|   EB-13840|   Ellis Ballard|  Corporate|West Bromwich|             England|United Kingdom|  North|OFF-FA-10002393|Office Supplies|   Fasteners|Accos Push Pins, ...|   43.56|       3|       0|   12.6|\n",
      "|    11|ES-2015-2510515|20/06/2015|20/06/2015|      Same Day|   LH-17155|Logan Haushalter|   Consumer|   Le Bouscat|Aquitaine-Limousi...|        France|Central|OFF-LA-10002805|Office Supplies|      Labels|Hon Color Coded L...|   25.26|       2|       0|   0.48|\n",
      "|    12|ES-2015-2510515|20/06/2015|20/06/2015|      Same Day|   LH-17155|Logan Haushalter|   Consumer|   Le Bouscat|Aquitaine-Limousi...|        France|Central|OFF-AP-10002330|Office Supplies|  Appliances|Hamilton Beach St...|2443.905|       5|     0.1|760.305|\n",
      "|    13|ES-2015-2510515|20/06/2015|20/06/2015|      Same Day|   LH-17155|Logan Haushalter|   Consumer|   Le Bouscat|Aquitaine-Limousi...|        France|Central|OFF-AR-10000505|Office Supplies|         Art|Binney & Smith Pe...|   12.21|       1|       0|      0|\n",
      "|    14|ES-2015-2510515|20/06/2015|20/06/2015|      Same Day|   LH-17155|Logan Haushalter|   Consumer|   Le Bouscat|Aquitaine-Limousi...|        France|Central|TEC-PH-10002898|     Technology|      Phones|Samsung Smart Pho...|2167.296|       4|    0.15|790.416|\n",
      "|    15|ES-2015-2510515|20/06/2015|20/06/2015|      Same Day|   LH-17155|Logan Haushalter|   Consumer|   Le Bouscat|Aquitaine-Limousi...|        France|Central|OFF-ST-10001413|Office Supplies|     Storage|Rogers Folders, Blue| 138.105|       5|     0.1|-12.345|\n",
      "|    16|ES-2016-4380115|16/02/2016|20/02/2016|Standard Class|   KC-16540| Kelly Collister|   Consumer|   Strasbourg|Alsace-Champagne-...|        France|Central|OFF-ST-10003931|Office Supplies|     Storage|Smead Trays, Wire...| 128.385|       3|     0.1|  4.275|\n",
      "|    17|ES-2016-4380115|16/02/2016|20/02/2016|Standard Class|   KC-16540| Kelly Collister|   Consumer|   Strasbourg|Alsace-Champagne-...|        France|Central|TEC-AC-10004269|     Technology| Accessories|Belkin Memory Car...|  690.12|       6|       0|      0|\n",
      "|    18|ES-2016-4380115|16/02/2016|20/02/2016|Standard Class|   KC-16540| Kelly Collister|   Consumer|   Strasbourg|Alsace-Champagne-...|        France|Central|OFF-LA-10001676|Office Supplies|      Labels|Hon Removable Lab...|    8.16|       1|       0|   1.14|\n",
      "|    19|ES-2017-2573330|03/11/2017|08/11/2017|Standard Class|   BF-11170|      Ben Ferrer|Home Office|         Unna|North Rhine-Westp...|       Germany|Central|TEC-MA-10000811|     Technology|    Machines|Okidata Phone, Du...|  347.88|       4|       0|  76.44|\n",
      "|    20|ES-2017-2573330|03/11/2017|08/11/2017|Standard Class|   BF-11170|      Ben Ferrer|Home Office|         Unna|North Rhine-Westp...|       Germany|Central|OFF-ST-10000648|Office Supplies|     Storage|Eldon File Cart, ...| 575.505|       5|     0.1| 12.705|\n",
      "+------+---------------+----------+----------+--------------+-----------+----------------+-----------+-------------+--------------------+--------------+-------+---------------+---------------+------------+--------------------+--------+--------+--------+-------+\n",
      "only showing top 20 rows\n",
      "\n"
     ]
    }
   ],
   "source": [
    "df.show()"
   ]
  },
  {
   "cell_type": "code",
   "execution_count": 52,
   "id": "3d1c649d",
   "metadata": {},
   "outputs": [
    {
     "data": {
      "text/plain": [
       "['Row ID',\n",
       " 'Order ID',\n",
       " 'Order Date',\n",
       " 'Ship Date',\n",
       " 'Ship Mode',\n",
       " 'Customer ID',\n",
       " 'Customer Name',\n",
       " 'Segment',\n",
       " 'City',\n",
       " 'State',\n",
       " 'Country',\n",
       " 'Region',\n",
       " 'Product ID',\n",
       " 'Category',\n",
       " 'Sub-Category',\n",
       " 'Product Name',\n",
       " 'Sales',\n",
       " 'Quantity',\n",
       " 'Discount',\n",
       " 'Profit']"
      ]
     },
     "execution_count": 52,
     "metadata": {},
     "output_type": "execute_result"
    }
   ],
   "source": [
    "df.columns"
   ]
  },
  {
   "cell_type": "code",
   "execution_count": 53,
   "id": "c61eb5b5",
   "metadata": {},
   "outputs": [
    {
     "name": "stdout",
     "output_type": "stream",
     "text": [
      "root\n",
      " |-- Row ID: string (nullable = true)\n",
      " |-- Order ID: string (nullable = true)\n",
      " |-- Order Date: string (nullable = true)\n",
      " |-- Ship Date: string (nullable = true)\n",
      " |-- Ship Mode: string (nullable = true)\n",
      " |-- Customer ID: string (nullable = true)\n",
      " |-- Customer Name: string (nullable = true)\n",
      " |-- Segment: string (nullable = true)\n",
      " |-- City: string (nullable = true)\n",
      " |-- State: string (nullable = true)\n",
      " |-- Country: string (nullable = true)\n",
      " |-- Region: string (nullable = true)\n",
      " |-- Product ID: string (nullable = true)\n",
      " |-- Category: string (nullable = true)\n",
      " |-- Sub-Category: string (nullable = true)\n",
      " |-- Product Name: string (nullable = true)\n",
      " |-- Sales: string (nullable = true)\n",
      " |-- Quantity: string (nullable = true)\n",
      " |-- Discount: string (nullable = true)\n",
      " |-- Profit: string (nullable = true)\n",
      "\n"
     ]
    }
   ],
   "source": [
    "df.printSchema()"
   ]
  },
  {
   "cell_type": "code",
   "execution_count": 54,
   "id": "99b20d55",
   "metadata": {},
   "outputs": [],
   "source": [
    "df=df.withColumn(\"Row ID\",df['Row ID'].cast('int'))"
   ]
  },
  {
   "cell_type": "code",
   "execution_count": 55,
   "id": "b285447e",
   "metadata": {},
   "outputs": [],
   "source": [
    "df=df.withColumn(\"Sales\",df['Sales'].cast('float'))"
   ]
  },
  {
   "cell_type": "code",
   "execution_count": 56,
   "id": "b2a54f0a",
   "metadata": {},
   "outputs": [],
   "source": [
    "df=df.withColumn(\"Quantity\",df['Quantity'].cast('int'))"
   ]
  },
  {
   "cell_type": "code",
   "execution_count": 57,
   "id": "0599e599",
   "metadata": {},
   "outputs": [],
   "source": [
    "df=df.withColumn(\"Profit\",df['Profit'].cast('float'))"
   ]
  },
  {
   "cell_type": "code",
   "execution_count": 58,
   "id": "89bfe51f",
   "metadata": {},
   "outputs": [],
   "source": [
    "df=df.withColumn(\"Discount\",df['Discount'].cast('float'))"
   ]
  },
  {
   "cell_type": "code",
   "execution_count": 59,
   "id": "bf1301b7",
   "metadata": {},
   "outputs": [
    {
     "name": "stdout",
     "output_type": "stream",
     "text": [
      "+------+---------------+----------+----------+--------------+-----------+----------------+-----------+-------------+--------------------+--------------+-------+---------------+---------------+------------+--------------------+--------+--------+--------+-------+\n",
      "|Row ID|       Order ID|Order Date| Ship Date|     Ship Mode|Customer ID|   Customer Name|    Segment|         City|               State|       Country| Region|     Product ID|       Category|Sub-Category|        Product Name|   Sales|Quantity|Discount| Profit|\n",
      "+------+---------------+----------+----------+--------------+-----------+----------------+-----------+-------------+--------------------+--------------+-------+---------------+---------------+------------+--------------------+--------+--------+--------+-------+\n",
      "|     1|ES-2017-1311038|07/02/2017|11/02/2017|Standard Class|   AS-10045|  Aaron Smayling|  Corporate|        Leeds|             England|United Kingdom|  North|OFF-ST-10000988|Office Supplies|     Storage|Fellowes Folders,...|    79.2|       3|     0.0|   39.6|\n",
      "|     2|ES-2017-1311038|07/02/2017|11/02/2017|Standard Class|   AS-10045|  Aaron Smayling|  Corporate|        Leeds|             England|United Kingdom|  North|TEC-AC-10004144|     Technology| Accessories|SanDisk Numeric K...|  388.92|       7|     0.0|    0.0|\n",
      "|     3|ES-2017-1311038|07/02/2017|11/02/2017|Standard Class|   AS-10045|  Aaron Smayling|  Corporate|        Leeds|             England|United Kingdom|  North|OFF-LA-10001915|Office Supplies|      Labels|Avery Legal Exhib...|   35.19|       3|     0.0|  16.11|\n",
      "|     4|ES-2017-1311038|07/02/2017|11/02/2017|Standard Class|   AS-10045|  Aaron Smayling|  Corporate|        Leeds|             England|United Kingdom|  North|OFF-ST-10004550|Office Supplies|     Storage|Fellowes Folders,...|   50.94|       2|     0.0|   13.2|\n",
      "|     5|ES-2017-1311038|07/02/2017|11/02/2017|Standard Class|   AS-10045|  Aaron Smayling|  Corporate|        Leeds|             England|United Kingdom|  North|TEC-AC-10004068|     Technology| Accessories|Memorex Memory Ca...|  307.44|       3|     0.0|  73.71|\n",
      "|     6|ES-2017-1311038|07/02/2017|11/02/2017|Standard Class|   AS-10045|  Aaron Smayling|  Corporate|        Leeds|             England|United Kingdom|  North|OFF-ST-10002271|Office Supplies|     Storage|Rogers Shelving, ...|   122.4|       2|     0.0|  37.92|\n",
      "|     7|ES-2017-1311038|07/02/2017|11/02/2017|Standard Class|   AS-10045|  Aaron Smayling|  Corporate|        Leeds|             England|United Kingdom|  North|TEC-PH-10003963|     Technology|      Phones|Apple Signal Boos...|  413.82|       3|     0.0|  20.61|\n",
      "|     8|ES-2015-5113958|02/08/2015|07/08/2015|  Second Class|   EB-13840|   Ellis Ballard|  Corporate|West Bromwich|             England|United Kingdom|  North|TEC-CO-10004325|     Technology|     Copiers|Canon Personal Co...|  428.22|       3|     0.0| 192.69|\n",
      "|     9|ES-2015-5113958|02/08/2015|07/08/2015|  Second Class|   EB-13840|   Ellis Ballard|  Corporate|West Bromwich|             England|United Kingdom|  North|OFF-AP-10004512|Office Supplies|  Appliances|   Hoover Stove, Red| 3979.29|       7|     0.0|1989.54|\n",
      "|    10|ES-2015-5113958|02/08/2015|07/08/2015|  Second Class|   EB-13840|   Ellis Ballard|  Corporate|West Bromwich|             England|United Kingdom|  North|OFF-FA-10002393|Office Supplies|   Fasteners|Accos Push Pins, ...|   43.56|       3|     0.0|   12.6|\n",
      "|    11|ES-2015-2510515|20/06/2015|20/06/2015|      Same Day|   LH-17155|Logan Haushalter|   Consumer|   Le Bouscat|Aquitaine-Limousi...|        France|Central|OFF-LA-10002805|Office Supplies|      Labels|Hon Color Coded L...|   25.26|       2|     0.0|   0.48|\n",
      "|    12|ES-2015-2510515|20/06/2015|20/06/2015|      Same Day|   LH-17155|Logan Haushalter|   Consumer|   Le Bouscat|Aquitaine-Limousi...|        France|Central|OFF-AP-10002330|Office Supplies|  Appliances|Hamilton Beach St...|2443.905|       5|     0.1|760.305|\n",
      "|    13|ES-2015-2510515|20/06/2015|20/06/2015|      Same Day|   LH-17155|Logan Haushalter|   Consumer|   Le Bouscat|Aquitaine-Limousi...|        France|Central|OFF-AR-10000505|Office Supplies|         Art|Binney & Smith Pe...|   12.21|       1|     0.0|    0.0|\n",
      "|    14|ES-2015-2510515|20/06/2015|20/06/2015|      Same Day|   LH-17155|Logan Haushalter|   Consumer|   Le Bouscat|Aquitaine-Limousi...|        France|Central|TEC-PH-10002898|     Technology|      Phones|Samsung Smart Pho...|2167.296|       4|    0.15|790.416|\n",
      "|    15|ES-2015-2510515|20/06/2015|20/06/2015|      Same Day|   LH-17155|Logan Haushalter|   Consumer|   Le Bouscat|Aquitaine-Limousi...|        France|Central|OFF-ST-10001413|Office Supplies|     Storage|Rogers Folders, Blue| 138.105|       5|     0.1|-12.345|\n",
      "|    16|ES-2016-4380115|16/02/2016|20/02/2016|Standard Class|   KC-16540| Kelly Collister|   Consumer|   Strasbourg|Alsace-Champagne-...|        France|Central|OFF-ST-10003931|Office Supplies|     Storage|Smead Trays, Wire...| 128.385|       3|     0.1|  4.275|\n",
      "|    17|ES-2016-4380115|16/02/2016|20/02/2016|Standard Class|   KC-16540| Kelly Collister|   Consumer|   Strasbourg|Alsace-Champagne-...|        France|Central|TEC-AC-10004269|     Technology| Accessories|Belkin Memory Car...|  690.12|       6|     0.0|    0.0|\n",
      "|    18|ES-2016-4380115|16/02/2016|20/02/2016|Standard Class|   KC-16540| Kelly Collister|   Consumer|   Strasbourg|Alsace-Champagne-...|        France|Central|OFF-LA-10001676|Office Supplies|      Labels|Hon Removable Lab...|    8.16|       1|     0.0|   1.14|\n",
      "|    19|ES-2017-2573330|03/11/2017|08/11/2017|Standard Class|   BF-11170|      Ben Ferrer|Home Office|         Unna|North Rhine-Westp...|       Germany|Central|TEC-MA-10000811|     Technology|    Machines|Okidata Phone, Du...|  347.88|       4|     0.0|  76.44|\n",
      "|    20|ES-2017-2573330|03/11/2017|08/11/2017|Standard Class|   BF-11170|      Ben Ferrer|Home Office|         Unna|North Rhine-Westp...|       Germany|Central|OFF-ST-10000648|Office Supplies|     Storage|Eldon File Cart, ...| 575.505|       5|     0.1| 12.705|\n",
      "+------+---------------+----------+----------+--------------+-----------+----------------+-----------+-------------+--------------------+--------------+-------+---------------+---------------+------------+--------------------+--------+--------+--------+-------+\n",
      "only showing top 20 rows\n",
      "\n"
     ]
    }
   ],
   "source": [
    "df.show()"
   ]
  },
  {
   "cell_type": "markdown",
   "id": "a5bc4ebe",
   "metadata": {},
   "source": [
    "# how many rows of the EU Superstore dataset have the country being France"
   ]
  },
  {
   "cell_type": "code",
   "execution_count": 60,
   "id": "35eaa22c",
   "metadata": {},
   "outputs": [],
   "source": [
    "France_df=df.filter(df['Country']=='France')\n",
    "France_total=France_df.count()"
   ]
  },
  {
   "cell_type": "markdown",
   "id": "e6b648b0",
   "metadata": {},
   "source": [
    "# of those, how many are profitable?"
   ]
  },
  {
   "cell_type": "code",
   "execution_count": 61,
   "id": "68c9efe0",
   "metadata": {},
   "outputs": [
    {
     "data": {
      "text/plain": [
       "2329"
      ]
     },
     "execution_count": 61,
     "metadata": {},
     "output_type": "execute_result"
    }
   ],
   "source": [
    "profitable_count_france=France_df.filter(France_df['Profit']>0).count()\n",
    "profitable_count_france"
   ]
  },
  {
   "cell_type": "code",
   "execution_count": 63,
   "id": "4b940794",
   "metadata": {},
   "outputs": [
    {
     "name": "stdout",
     "output_type": "stream",
     "text": [
      "among all orders from France 82 % are profitable\n"
     ]
    }
   ],
   "source": [
    "print(\"among all orders from France\",int(profitable_count_france/France_total*100),\"% are profitable\")"
   ]
  },
  {
   "cell_type": "markdown",
   "id": "3715e697",
   "metadata": {},
   "source": [
    "# how many different discount brackets exist? what are they?"
   ]
  },
  {
   "cell_type": "code",
   "execution_count": 64,
   "id": "59b95f9d",
   "metadata": {},
   "outputs": [
    {
     "name": "stdout",
     "output_type": "stream",
     "text": [
      "+--------+\n",
      "|Discount|\n",
      "+--------+\n",
      "|    0.15|\n",
      "|     0.1|\n",
      "|    0.35|\n",
      "|     0.6|\n",
      "|     0.5|\n",
      "|    0.65|\n",
      "|     0.0|\n",
      "+--------+\n",
      "\n"
     ]
    }
   ],
   "source": [
    "France_df.select(France_df['Discount']).distinct().show()"
   ]
  },
  {
   "cell_type": "code",
   "execution_count": 65,
   "id": "9e0f1029",
   "metadata": {},
   "outputs": [
    {
     "name": "stdout",
     "output_type": "stream",
     "text": [
      "+--------+------------------+\n",
      "|Discount|        sum(sales)|\n",
      "+--------+------------------+\n",
      "|     0.0| 1522455.807906866|\n",
      "|     0.1|  762412.041636467|\n",
      "|    0.15|256321.33266067505|\n",
      "|     0.2|42612.479701042175|\n",
      "|     0.3| 6137.228960037231|\n",
      "|    0.35|54160.040939331055|\n",
      "|     0.4|  70087.0320777893|\n",
      "|    0.45|2546.4285278320312|\n",
      "|     0.5|183734.26430511475|\n",
      "|     0.6| 26429.36386156082|\n",
      "|    0.65| 6579.814552307129|\n",
      "|     0.7|3657.4650268554688|\n",
      "|     0.8| 158.9159984588623|\n",
      "|    0.85| 796.8419952392578|\n",
      "+--------+------------------+\n",
      "\n"
     ]
    }
   ],
   "source": [
    "df.groupBy('Discount').sum('sales').sort('Discount').show()"
   ]
  },
  {
   "cell_type": "code",
   "execution_count": 66,
   "id": "71bb55c7",
   "metadata": {},
   "outputs": [
    {
     "name": "stdout",
     "output_type": "stream",
     "text": [
      "+--------+-----+\n",
      "|Discount|count|\n",
      "+--------+-----+\n",
      "|     0.0| 6134|\n",
      "|     0.1| 1737|\n",
      "|    0.15|  407|\n",
      "|     0.2|  125|\n",
      "|     0.3|   51|\n",
      "|    0.35|   45|\n",
      "|     0.4|  274|\n",
      "|    0.45|    2|\n",
      "|     0.5| 1080|\n",
      "|     0.6|  116|\n",
      "|    0.65|   17|\n",
      "|     0.7|    6|\n",
      "|     0.8|    4|\n",
      "|    0.85|    2|\n",
      "+--------+-----+\n",
      "\n"
     ]
    }
   ],
   "source": [
    "df.groupby('Discount').count().sort('Discount').show()"
   ]
  },
  {
   "cell_type": "code",
   "execution_count": 67,
   "id": "f16b3b8e",
   "metadata": {},
   "outputs": [],
   "source": [
    "df =df.withColumn('Cost',df['Sales']-df['Profit'])\n",
    "df = df.withColumn('Profitable_Flag',\n",
    "                  when(df['Profit']>0,\"Profitable\").\n",
    "                  when(df['Profit']<0,\"Not Profitable\").\n",
    "                  when(df['Profit']==0,\"zero\").\n",
    "                  otherwise('error'))"
   ]
  },
  {
   "cell_type": "markdown",
   "id": "6dd146d8",
   "metadata": {},
   "source": [
    "# let's see the total profit by discount bracket, make sure they are ordered by "
   ]
  },
  {
   "cell_type": "code",
   "execution_count": 68,
   "id": "fa6317b4",
   "metadata": {},
   "outputs": [],
   "source": [
    "pivot= df.groupby('Discount').sum('Profit').sort('Discount')"
   ]
  },
  {
   "cell_type": "code",
   "execution_count": 69,
   "id": "2f8c1365",
   "metadata": {},
   "outputs": [
    {
     "name": "stdout",
     "output_type": "stream",
     "text": [
      "+--------+---------------+-----+\n",
      "|Discount|Profitable_Flag|count|\n",
      "+--------+---------------+-----+\n",
      "|     0.0|     Profitable| 5989|\n",
      "|     0.0|           zero|  145|\n",
      "|     0.1|     Profitable| 1329|\n",
      "|     0.1| Not Profitable|  407|\n",
      "|     0.1|           zero|    1|\n",
      "|    0.15| Not Profitable|  159|\n",
      "|    0.15|     Profitable|  248|\n",
      "|     0.2|     Profitable|   76|\n",
      "|     0.2| Not Profitable|   49|\n",
      "|     0.3| Not Profitable|   33|\n",
      "|     0.3|     Profitable|   18|\n",
      "|    0.35|     Profitable|   11|\n",
      "|    0.35| Not Profitable|   34|\n",
      "|     0.4| Not Profitable|  221|\n",
      "|     0.4|     Profitable|   53|\n",
      "|    0.45| Not Profitable|    2|\n",
      "|     0.5|           zero|   12|\n",
      "|     0.5| Not Profitable| 1068|\n",
      "|     0.6| Not Profitable|  116|\n",
      "|    0.65| Not Profitable|   17|\n",
      "+--------+---------------+-----+\n",
      "only showing top 20 rows\n",
      "\n"
     ]
    }
   ],
   "source": [
    "df.groupby(['Discount','Profitable_Flag']).count().sort('Discount').show()"
   ]
  },
  {
   "cell_type": "code",
   "execution_count": 70,
   "id": "58479cf4",
   "metadata": {},
   "outputs": [
    {
     "name": "stdout",
     "output_type": "stream",
     "text": [
      "+--------+---------------+-----+\n",
      "|Discount|Profitable_Flag|count|\n",
      "+--------+---------------+-----+\n",
      "|     0.0|           zero|  145|\n",
      "|     0.0|     Profitable| 5989|\n",
      "|     0.1|     Profitable| 1329|\n",
      "|     0.1|           zero|    1|\n",
      "|     0.1| Not Profitable|  407|\n",
      "|    0.15| Not Profitable|  159|\n",
      "|    0.15|     Profitable|  248|\n",
      "|     0.2| Not Profitable|   49|\n",
      "|     0.2|     Profitable|   76|\n",
      "|     0.3|     Profitable|   18|\n",
      "|     0.3| Not Profitable|   33|\n",
      "|    0.35|     Profitable|   11|\n",
      "|    0.35| Not Profitable|   34|\n",
      "|     0.4|     Profitable|   53|\n",
      "|     0.4| Not Profitable|  221|\n",
      "|    0.45| Not Profitable|    2|\n",
      "|     0.5| Not Profitable| 1068|\n",
      "|     0.5|           zero|   12|\n",
      "|     0.6| Not Profitable|  116|\n",
      "|    0.65| Not Profitable|   17|\n",
      "+--------+---------------+-----+\n",
      "only showing top 20 rows\n",
      "\n"
     ]
    }
   ],
   "source": [
    "df.groupby(['Discount','Profitable_Flag']).count().sort('Discount').show()"
   ]
  },
  {
   "cell_type": "code",
   "execution_count": 71,
   "id": "395fe13e",
   "metadata": {},
   "outputs": [
    {
     "name": "stdout",
     "output_type": "stream",
     "text": [
      "+---------------+------------------+\n",
      "|Profitable_Flag|  sum(sum(Profit))|\n",
      "+---------------+------------------+\n",
      "| Not Profitable|-186188.9957401813|\n",
      "|           zero|               0.0|\n",
      "|     Profitable| 559018.7371592559|\n",
      "+---------------+------------------+\n",
      "\n"
     ]
    }
   ],
   "source": [
    "profit_and_discount=df.groupby(['Discount','Profitable_Flag']).sum('Profit').sort('Discount')\n",
    "res=profit_and_discount.groupby('Profitable_Flag').sum('sum(Profit)')\n",
    "res.show()"
   ]
  },
  {
   "cell_type": "code",
   "execution_count": 72,
   "id": "71c88a01",
   "metadata": {},
   "outputs": [
    {
     "name": "stdout",
     "output_type": "stream",
     "text": [
      "+--------+---------------+-------------------+\n",
      "|Discount|Profitable_Flag|        sum(Profit)|\n",
      "+--------+---------------+-------------------+\n",
      "|     0.0|     Profitable|  383806.5302368067|\n",
      "|     0.0|           zero|                0.0|\n",
      "|     0.1|     Profitable| 135214.93478811532|\n",
      "|     0.1|           zero|                0.0|\n",
      "|     0.1| Not Profitable| -8330.904032681603|\n",
      "|    0.15| Not Profitable| -7195.565995974466|\n",
      "|    0.15|     Profitable|  31873.12961292267|\n",
      "|     0.2|     Profitable|  4808.184008717537|\n",
      "|     0.2| Not Profitable| -2618.634010396898|\n",
      "|     0.3| Not Profitable| -943.4909943044186|\n",
      "|     0.3|     Profitable|  185.0699982047081|\n",
      "|    0.35| Not Profitable|-11128.135562896729|\n",
      "|    0.35|     Profitable| 2005.4865083694458|\n",
      "|     0.4| Not Profitable|-22471.829946905375|\n",
      "|     0.4|     Profitable| 1125.4020061194897|\n",
      "|    0.45| Not Profitable|-1103.1914978027344|\n",
      "|     0.5| Not Profitable| -96632.11525454745|\n",
      "|     0.5|           zero|                0.0|\n",
      "|     0.6| Not Profitable| -20517.45601272583|\n",
      "|    0.65| Not Profitable| -6221.965492248535|\n",
      "+--------+---------------+-------------------+\n",
      "only showing top 20 rows\n",
      "\n"
     ]
    }
   ],
   "source": [
    "profit_and_discount.show()"
   ]
  },
  {
   "cell_type": "markdown",
   "id": "7b7e870a",
   "metadata": {},
   "source": [
    "# what is the value after which we should stop offering discount?"
   ]
  },
  {
   "cell_type": "code",
   "execution_count": 73,
   "id": "a2b0a559",
   "metadata": {},
   "outputs": [
    {
     "name": "stdout",
     "output_type": "stream",
     "text": [
      "+--------+---------------+-----------------+\n",
      "|Discount|Profitable_Flag|      sum(Profit)|\n",
      "+--------+---------------+-----------------+\n",
      "|     0.0|     Profitable|383806.5302368067|\n",
      "|     0.0|           zero|              0.0|\n",
      "+--------+---------------+-----------------+\n",
      "\n"
     ]
    }
   ],
   "source": [
    "without_discount=profit_and_discount.filter(profit_and_discount['Discount']==0)\n",
    "with_discount=profit_and_discount.filter(profit_and_discount['Discount']!=0).groupBy('Profitable_Flag').sum()\n",
    "\n",
    "without_discount.show()"
   ]
  },
  {
   "cell_type": "code",
   "execution_count": 74,
   "id": "be1aa98f",
   "metadata": {},
   "outputs": [
    {
     "name": "stdout",
     "output_type": "stream",
     "text": [
      "+---------------+------------------+------------------+\n",
      "|Profitable_Flag|     sum(Discount)|  sum(sum(Profit))|\n",
      "+---------------+------------------+------------------+\n",
      "| Not Profitable| 6.050000034272671|-186188.9957401813|\n",
      "|           zero|0.6000000014901161|               0.0|\n",
      "|     Profitable|1.5000000223517418|175212.20692244917|\n",
      "+---------------+------------------+------------------+\n",
      "\n"
     ]
    }
   ],
   "source": [
    "with_discount.show()"
   ]
  },
  {
   "cell_type": "code",
   "execution_count": 75,
   "id": "20950917",
   "metadata": {},
   "outputs": [
    {
     "name": "stdout",
     "output_type": "stream",
     "text": [
      "profitable maximum discount rate is:  20.000000298023224 percent\n"
     ]
    }
   ],
   "source": [
    "discount_profit=df.groupby(['Discount']).sum('Profit').sort('Discount',ascending=False)\n",
    "profitable_discount=discount_profit.filter(discount_profit['sum(Profit)']>0)\n",
    "profitable_max_discount=profitable_discount.select('Discount').collect()\n",
    "print(\"profitable maximum discount rate is: \",profitable_max_discount[0][0]*100,\"percent\")"
   ]
  },
  {
   "cell_type": "markdown",
   "id": "e5c440c7",
   "metadata": {},
   "source": [
    "# who are the top 5 most profitable customers"
   ]
  },
  {
   "cell_type": "code",
   "execution_count": 76,
   "id": "44fa01e3",
   "metadata": {},
   "outputs": [
    {
     "name": "stdout",
     "output_type": "stream",
     "text": [
      "+-----------+-----------------+---------+------------------+\n",
      "|Customer ID|    Customer Name|  Segment|       sum(Profit)|\n",
      "+-----------+-----------------+---------+------------------+\n",
      "|   SP-20920|     Susan Pistek| Consumer| 4974.513064682484|\n",
      "|   PJ-18835|    Patrick Jones|Corporate|3986.0040826797485|\n",
      "|   PO-18865|Patrick O'Donnell| Consumer| 3778.197093129158|\n",
      "|   EB-13840|    Ellis Ballard|Corporate| 3459.660038240254|\n",
      "|   MG-18145|  Mike Gockenbach| Consumer|3144.4440593719482|\n",
      "+-----------+-----------------+---------+------------------+\n",
      "only showing top 5 rows\n",
      "\n"
     ]
    }
   ],
   "source": [
    "customer_profit=df.select(['Customer ID', 'Customer Name','Profit','Sales','Discount','Segment'])\n",
    "customer_profit=customer_profit.groupBy(['Customer ID','Customer Name','Segment']).sum('Profit').orderBy('sum(Profit)',ascending=False)\n",
    "customer_profit.show(5)"
   ]
  },
  {
   "cell_type": "code",
   "execution_count": 86,
   "id": "6a929d0c",
   "metadata": {},
   "outputs": [
    {
     "name": "stdout",
     "output_type": "stream",
     "text": [
      "the number 1 Susan Pistek\n",
      "the number 2 Patrick Jones\n",
      "the number 3 Patrick O'Donnell\n",
      "the number 4 Ellis Ballard\n",
      "the number 5 Mike Gockenbach\n"
     ]
    }
   ],
   "source": [
    "top10_list=customer_profit.collect()\n",
    "\n",
    "for i in range(5):\n",
    "    print(f\"the number {i+1}\",top10_list[i][1])"
   ]
  },
  {
   "cell_type": "markdown",
   "id": "2051ca23",
   "metadata": {},
   "source": [
    "# get all the rows belonging to those 5 customer names: hint, you may need the collect method - how many rows are they?"
   ]
  },
  {
   "cell_type": "code",
   "execution_count": 87,
   "id": "5a2b21d0",
   "metadata": {},
   "outputs": [],
   "source": [
    "top_5cust=[]\n",
    "\n",
    "for i in range(5):\n",
    "    top_5cust.append(top10_list[i][1])"
   ]
  },
  {
   "cell_type": "code",
   "execution_count": 88,
   "id": "9879a63e",
   "metadata": {},
   "outputs": [],
   "source": [
    "top5_df=df.withColumn(\"is top 5\", when(df['Customer Name'].isin(top_5cust),True).otherwise(False))"
   ]
  },
  {
   "cell_type": "code",
   "execution_count": 89,
   "id": "d60072bb",
   "metadata": {},
   "outputs": [
    {
     "data": {
      "text/plain": [
       "76"
      ]
     },
     "execution_count": 89,
     "metadata": {},
     "output_type": "execute_result"
    }
   ],
   "source": [
    "top5_df=top5_df.filter(top5_df[\"is top 5\"]==\"True\")\n",
    "top5_df.count()"
   ]
  },
  {
   "cell_type": "markdown",
   "id": "6311276f",
   "metadata": {},
   "source": [
    "# create a new column which is the value of the sale were there not discount applied"
   ]
  },
  {
   "cell_type": "code",
   "execution_count": 90,
   "id": "dfb62932",
   "metadata": {},
   "outputs": [],
   "source": [
    "df=df.withColumn(\"Org_Price\",(df.Sales)/(1-df.Discount))"
   ]
  },
  {
   "cell_type": "markdown",
   "id": "0be07020",
   "metadata": {},
   "source": [
    "# calculate the difference between sales and discount value"
   ]
  },
  {
   "cell_type": "code",
   "execution_count": 91,
   "id": "c1f390e0",
   "metadata": {},
   "outputs": [],
   "source": [
    "df=df.withColumn(\"Discount_amount\",df.Org_Price-df.Sales)"
   ]
  },
  {
   "cell_type": "markdown",
   "id": "49bf07a1",
   "metadata": {},
   "source": [
    "# how much money did we not gain due to the discounts - per discount bracket?"
   ]
  },
  {
   "cell_type": "markdown",
   "id": "66b2b3aa",
   "metadata": {},
   "source": [
    "one way"
   ]
  },
  {
   "cell_type": "code",
   "execution_count": 92,
   "id": "180c5a48",
   "metadata": {},
   "outputs": [
    {
     "name": "stdout",
     "output_type": "stream",
     "text": [
      "+--------+-------------------+\n",
      "|Discount|        sum(Profit)|\n",
      "+--------+-------------------+\n",
      "|     0.1| -8330.904032681603|\n",
      "|    0.15| -7195.565995974466|\n",
      "|     0.2| -2618.634010396898|\n",
      "|     0.3| -943.4909943044186|\n",
      "|    0.35|-11128.135562896729|\n",
      "|     0.4|-22471.829946905375|\n",
      "|    0.45|-1103.1914978027344|\n",
      "|     0.5| -96632.11525454745|\n",
      "|     0.6| -20517.45601272583|\n",
      "|    0.65| -6221.965492248535|\n",
      "|     0.7| -5496.764984130859|\n",
      "|     0.8|-460.28399658203125|\n",
      "|    0.85| -3068.657958984375|\n",
      "+--------+-------------------+\n",
      "\n"
     ]
    }
   ],
   "source": [
    "df.filter(df['Profit']<0).groupby(['Discount']).sum('Profit').sort('Discount').show()\n"
   ]
  },
  {
   "cell_type": "markdown",
   "id": "7e987bde",
   "metadata": {},
   "source": [
    "other way"
   ]
  },
  {
   "cell_type": "code",
   "execution_count": 94,
   "id": "bf198cc8",
   "metadata": {},
   "outputs": [
    {
     "name": "stdout",
     "output_type": "stream",
     "text": [
      "+--------+------------------+------------------+------------------+------------------+\n",
      "|Discount|          Consumer|         Corporate|       Home Office|             Total|\n",
      "+--------+------------------+------------------+------------------+------------------+\n",
      "|     0.5|106548.71956014633|  49934.7448720932|27250.799872875214|183734.26430511475|\n",
      "|     0.1| 43699.39762236991|26694.730102942744|14318.343786541722| 84712.47151185437|\n",
      "|     0.4| 21287.27796990879|19281.790047467635| 6155.615392802582| 46724.68341017901|\n",
      "|    0.15|21885.300325112476|14535.726252363505| 8812.141316031895| 45233.16789350788|\n",
      "|     0.6|17485.309708010063|15545.809386591982| 6612.930636021532| 39644.04973062358|\n",
      "|    0.35|14897.349054331104|10405.039073088758| 3860.713896186916|29163.102023606778|\n",
      "|    0.65| 7633.605819701509|2023.1638090569754| 2562.884687771139|12219.654316529623|\n",
      "|     0.2| 7212.185403869611|1962.7978490890587|1478.1358785825992|10653.119131541269|\n",
      "|     0.7| 4147.961759978145|1203.6779305322993|3182.4448877036602| 8534.084578214104|\n",
      "|     0.3|1274.9940613675124| 760.4460421769967| 594.8010286377161| 2630.241132182225|\n",
      "|     0.0|               0.0|               0.0|               0.0|               0.0|\n",
      "|    0.45|              null| 748.2374739484358|1335.2039484734978|              null|\n",
      "|     0.8| 353.9280277735012|281.73601342260906|              null|              null|\n",
      "|    0.85|              null|1369.6562263743433| 3145.782591012413|              null|\n",
      "+--------+------------------+------------------+------------------+------------------+\n",
      "\n"
     ]
    }
   ],
   "source": [
    "discounted_total_table=df.groupBy('Discount').pivot('Segment').sum('Discount_amount')\n",
    "discounted_total_table=discounted_total_table.withColumn(\"Total\",discounted_total_table['Consumer']+discounted_total_table['Corporate']+discounted_total_table['Home Office']).orderBy('Total',ascending=False)\n",
    "discounted_total_table.show()"
   ]
  },
  {
   "cell_type": "markdown",
   "id": "7721ec0f",
   "metadata": {},
   "source": [
    "# find the discount bracket which made us not gain the most (dynamically)"
   ]
  },
  {
   "cell_type": "code",
   "execution_count": 96,
   "id": "4fb75a5a",
   "metadata": {},
   "outputs": [
    {
     "name": "stdout",
     "output_type": "stream",
     "text": [
      "the discount bracket which resulted the most loss is:  50.0 percent discount\n"
     ]
    }
   ],
   "source": [
    "loss_discount=df.filter(df['Profit']<0).groupby(['Discount']).sum('Profit').sort('sum(Profit)')\n",
    "most_loss_discount=loss_discount.collect()\n",
    "print(\"the discount bracket which resulted the most loss is: \", most_loss_discount[0][0]*100, \"percent discount\")"
   ]
  },
  {
   "cell_type": "markdown",
   "id": "36eb6ce4",
   "metadata": {},
   "source": [
    "# what would have been the total profit if we removed all orders from that discount group? "
   ]
  },
  {
   "cell_type": "code",
   "execution_count": 97,
   "id": "e4ab165d",
   "metadata": {},
   "outputs": [],
   "source": [
    "with_50=df.groupBy('Segment').sum('Profit').sort('sum(Profit)',ascending=False).collect()"
   ]
  },
  {
   "cell_type": "code",
   "execution_count": 98,
   "id": "e15d40f3",
   "metadata": {},
   "outputs": [],
   "source": [
    "without_50=df.filter(df['Discount']!=0.5).groupBy('Segment').sum('Profit').sort('sum(Profit)',ascending=False).collect()"
   ]
  },
  {
   "cell_type": "code",
   "execution_count": 99,
   "id": "d5768edf",
   "metadata": {},
   "outputs": [],
   "source": [
    "total_without_50=0\n",
    "for i in range(len(without_50)):\n",
    "    total_without_50+=without_50[i][1]"
   ]
  },
  {
   "cell_type": "code",
   "execution_count": 101,
   "id": "51dc9535",
   "metadata": {},
   "outputs": [
    {
     "data": {
      "text/plain": [
       "469461"
      ]
     },
     "execution_count": 101,
     "metadata": {},
     "output_type": "execute_result"
    }
   ],
   "source": [
    "int(total_without_50)"
   ]
  },
  {
   "cell_type": "markdown",
   "id": "773c8114",
   "metadata": {},
   "source": [
    "# how much more (or less) profit is that?"
   ]
  },
  {
   "cell_type": "code",
   "execution_count": 102,
   "id": "1ec33925",
   "metadata": {},
   "outputs": [],
   "source": [
    "total_with_50=0\n",
    "for i in range(len(with_50)):\n",
    "    total_with_50+=with_50[i][1]"
   ]
  },
  {
   "cell_type": "code",
   "execution_count": 104,
   "id": "67663933",
   "metadata": {},
   "outputs": [
    {
     "name": "stdout",
     "output_type": "stream",
     "text": [
      "we gain 96632 euros less in 50.0 percent discount bracket\n"
     ]
    }
   ],
   "source": [
    "print(\"we gain\",int(total_without_50-total_with_50),\"euros less in\", most_loss_discount[0][0]*100,\"percent discount bracket\")"
   ]
  },
  {
   "cell_type": "markdown",
   "id": "d84e56ad",
   "metadata": {},
   "source": [
    "# create a temporary table for our superstore table in sql"
   ]
  },
  {
   "cell_type": "code",
   "execution_count": 105,
   "id": "a9197082",
   "metadata": {},
   "outputs": [],
   "source": [
    "df.createOrReplaceTempView('df')"
   ]
  },
  {
   "cell_type": "markdown",
   "id": "a1b2b04b",
   "metadata": {},
   "source": [
    "# use an SQL query to count the number of rows"
   ]
  },
  {
   "cell_type": "code",
   "execution_count": 108,
   "id": "9b552c0d",
   "metadata": {},
   "outputs": [
    {
     "name": "stdout",
     "output_type": "stream",
     "text": [
      "+--------+\n",
      "|count(1)|\n",
      "+--------+\n",
      "|   10000|\n",
      "+--------+\n",
      "\n"
     ]
    }
   ],
   "source": [
    "spark.sql(\"SELECT COUNT(*) from df\").show()"
   ]
  },
  {
   "cell_type": "code",
   "execution_count": 109,
   "id": "293591b2",
   "metadata": {},
   "outputs": [
    {
     "data": {
      "text/plain": [
       "10000"
      ]
     },
     "execution_count": 109,
     "metadata": {},
     "output_type": "execute_result"
    }
   ],
   "source": [
    "df.count()"
   ]
  },
  {
   "cell_type": "markdown",
   "id": "f2bc1ea9",
   "metadata": {},
   "source": [
    "# Use an SQL query to calculate the profit ratio for each country: hint, ratio is sum(profit)/sum(sales)"
   ]
  },
  {
   "cell_type": "markdown",
   "id": "21829355",
   "metadata": {},
   "source": [
    "### with SQL"
   ]
  },
  {
   "cell_type": "code",
   "execution_count": 187,
   "id": "e1aa4147",
   "metadata": {},
   "outputs": [
    {
     "data": {
      "text/plain": [
       "'Switzerland'"
      ]
     },
     "execution_count": 187,
     "metadata": {},
     "output_type": "execute_result"
    }
   ],
   "source": [
    "profit_ratio_table=spark.sql(\"SELECT SUM(Profit)/SUM(Sales) AS Profit_Ratio, Country as C from df as df GROUP BY Country ORDER BY Profit_Ratio DESC \")\n",
    "profit_ratio_list=profit_ratio_table.collect()\n",
    "country_with_highest_profit_ratio=profit_ratio_list[0][1]\n",
    "country_with_highest_profit_ratio"
   ]
  },
  {
   "cell_type": "markdown",
   "id": "01095159",
   "metadata": {},
   "source": [
    "### with pyspark"
   ]
  },
  {
   "cell_type": "code",
   "execution_count": 174,
   "id": "6009493c",
   "metadata": {},
   "outputs": [],
   "source": [
    "df3=df.groupBy('Country').agg({'Profit':'sum','Sales':'sum'})\n",
    "df3=df3.withColumn('profit_ratio',df3['sum(Profit)']/df3['sum(Sales)']).orderBy('profit_ratio',ascending=False)"
   ]
  },
  {
   "cell_type": "code",
   "execution_count": 150,
   "id": "71361627",
   "metadata": {},
   "outputs": [
    {
     "name": "stdout",
     "output_type": "stream",
     "text": [
      "+-----------+-----------------+------------------+-------------------+\n",
      "|    Country|       sum(Sales)|       sum(Profit)|       profit_ratio|\n",
      "+-----------+-----------------+------------------+-------------------+\n",
      "|Switzerland|24877.85997390747|7237.4700926840305|0.29092012336571044|\n",
      "+-----------+-----------------+------------------+-------------------+\n",
      "only showing top 1 row\n",
      "\n"
     ]
    }
   ],
   "source": [
    "highest_profit_ratio=df3.orderBy('profit_ratio',ascending=False).show(1)\n"
   ]
  },
  {
   "cell_type": "markdown",
   "id": "2bf3c881",
   "metadata": {},
   "source": [
    "# is the country with the largest profit ratio, the country with the largest profit?"
   ]
  },
  {
   "cell_type": "code",
   "execution_count": 175,
   "id": "f123b226",
   "metadata": {},
   "outputs": [
    {
     "name": "stdout",
     "output_type": "stream",
     "text": [
      "+--------------+-----------------+------------------+-------------------+\n",
      "|       Country|       sum(Sales)|       sum(Profit)|       profit_ratio|\n",
      "+--------------+-----------------+------------------+-------------------+\n",
      "|United Kingdom|528576.2984557152|111900.15013868175|0.21170103628484374|\n",
      "+--------------+-----------------+------------------+-------------------+\n",
      "only showing top 1 row\n",
      "\n"
     ]
    }
   ],
   "source": [
    "most_profitted_country=df3.orderBy('sum(Profit)',ascending=False).show(1)"
   ]
  },
  {
   "cell_type": "code",
   "execution_count": 184,
   "id": "87d8dc86",
   "metadata": {},
   "outputs": [
    {
     "data": {
      "text/plain": [
       "'United Kingdom'"
      ]
     },
     "execution_count": 184,
     "metadata": {},
     "output_type": "execute_result"
    }
   ],
   "source": [
    "TOTAL_PROFIT_TABLE=spark.sql(\"SELECT SUM(Profit) AS Total_profit, Country as C from df as df GROUP BY Country ORDER BY Total_profit DESC \")\n",
    "TOTAL_PROFIT_list=TOTAL_PROFIT_TABLE.collect()\n",
    "the_country_with_largest_profit=TOTAL_PROFIT_list[0][1]\n",
    "the_country_with_largest_profit"
   ]
  },
  {
   "cell_type": "code",
   "execution_count": 191,
   "id": "2e75634d",
   "metadata": {},
   "outputs": [],
   "source": [
    "result=country_with_highest_profit_ratio == the_country_with_largest_profit"
   ]
  },
  {
   "cell_type": "code",
   "execution_count": 195,
   "id": "d7068654",
   "metadata": {},
   "outputs": [
    {
     "name": "stdout",
     "output_type": "stream",
     "text": [
      "the most profitable country is: United Kingdom, and the country with the highest profit ratio is Switzerland.\n",
      " are they same? \n",
      " False\n"
     ]
    }
   ],
   "source": [
    "print(f\"the most profitable country is: {the_country_with_largest_profit}, and the country with the highest profit ratio is {country_with_highest_profit_ratio}.\\n are they same? \\n {result}\")"
   ]
  }
 ],
 "metadata": {
  "kernelspec": {
   "display_name": "Python 3 (ipykernel)",
   "language": "python",
   "name": "python3"
  },
  "language_info": {
   "codemirror_mode": {
    "name": "ipython",
    "version": 3
   },
   "file_extension": ".py",
   "mimetype": "text/x-python",
   "name": "python",
   "nbconvert_exporter": "python",
   "pygments_lexer": "ipython3",
   "version": "3.11.2"
  }
 },
 "nbformat": 4,
 "nbformat_minor": 5
}
